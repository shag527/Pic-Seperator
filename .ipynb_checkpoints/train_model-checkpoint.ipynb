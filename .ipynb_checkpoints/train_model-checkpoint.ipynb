{
 "cells": [
  {
   "cell_type": "code",
   "execution_count": 1,
   "metadata": {},
   "outputs": [],
   "source": [
    "# Importing libraries\n",
    "\n",
    "import cv2\n",
    "import face_recognition\n",
    "import numpy as np\n",
    "from os import listdir\n",
    "from os.path import isfile,join\n",
    "import shutil"
   ]
  },
  {
   "cell_type": "code",
   "execution_count": 2,
   "metadata": {},
   "outputs": [
    {
     "name": "stdout",
     "output_type": "stream",
     "text": [
      "Face not Detected\n",
      "Face not Detected\n",
      "Face not Detected\n",
      "Face not Detected\n",
      "Face not Detected\n",
      "Face not Detected\n",
      "Face not Detected\n",
      "Face not Detected\n",
      "Face not Detected\n",
      "Face not Detected\n",
      "Face not Detected\n",
      "Face not Detected\n",
      "Face not Detected\n",
      "Face not Detected\n",
      "Face not Detected\n",
      "Face not Detected\n",
      "Face not Detected\n",
      "Face not Detected\n",
      "Face not Detected\n",
      "Face not Detected\n",
      "Face not Detected\n",
      "Face not Detected\n",
      "Face not Detected\n",
      "Training Data Preprocessed\n"
     ]
    }
   ],
   "source": [
    "train_path='Training Samples/'\n",
    "only_files=[f for f in listdir(train_path) if isfile(join(train_path,f))]\n",
    "\n",
    "training_data,labels=[],[]\n",
    "\n",
    "for image in only_files:\n",
    "    train_image=face_recognition.load_image_file(train_path+image)\n",
    "    try:\n",
    "        train_encoding=face_recognition.face_encodings(train_image)[0]\n",
    "        training_data.append(train_encoding)\n",
    "        labels.append('Gates')\n",
    "    except IndexError as e:\n",
    "        print('Face not Detected')\n",
    "    \n",
    "    \n",
    "print('Training Data Preprocessed')"
   ]
  },
  {
   "cell_type": "code",
   "execution_count": 6,
   "metadata": {},
   "outputs": [],
   "source": [
    "#Loading all the images to be matched\n",
    "\n",
    "test_path='Source/'\n",
    "Dest_path='Destination/'\n",
    "test_files=[f for f in listdir(test_path) if isfile(join(test_path,f))]"
   ]
  },
  {
   "cell_type": "code",
   "execution_count": 7,
   "metadata": {},
   "outputs": [
    {
     "name": "stdout",
     "output_type": "stream",
     "text": [
      "brak_005.jpg Not Matched\n",
      "gates17.jpg Matched\n",
      "donald trump56.jpg Not Matched\n",
      "brak_003.jpg Not Matched\n",
      "modi3.jpg Not Matched\n",
      "gates12.jpg Matched\n",
      "images (2).jpg Not Matched\n",
      "jack2.jpg Not Matched\n",
      "modi1.jpg Not Matched\n",
      "donald trump51.jpg Not Matched\n",
      "gates10.jpg Matched\n",
      "musk4.jpg Not Matched\n",
      "brak_002.jpg Not Matched\n",
      "gates14.jpg Matched\n",
      "donald trump52.jpg Matched\n",
      "musk1.jpg Not Matched\n",
      "gates15.jpg Matched\n",
      "images (4).jpg Not Matched\n",
      "modi4.jpg Not Matched\n",
      "gates9.jpg Matched\n",
      "musk2.jpg Not Matched\n",
      "gates5.jpg Matched\n",
      "images (1).jpg Not Matched\n",
      "jack0.jpg Not Matched\n",
      "gates3.jpg Matched\n",
      "modi2.jpg Not Matched\n",
      "gates0.jpg Matched\n",
      "jack1.jpg Not Matched\n",
      "musk0.jpg Not Matched\n",
      "gates13.jpg Matched\n",
      "gates7.jpg Matched\n",
      "gates6.jpg Matched\n",
      "gates4.jpg Matched\n",
      "jack3.jpg Not Matched\n",
      "gates18.jpg Matched\n",
      "gates1.jpg Matched\n",
      "gates2.jpg Matched\n",
      "jack4.jpg Not Matched\n",
      "gates8.jpg Matched\n",
      "modi0.jpg Not Matched\n",
      "donald trump55.jpg Not Matched\n",
      "brak_001.jpg Not Matched\n",
      "gates11.jpg Matched\n",
      "musk3.jpg Not Matched\n",
      "images (3).jpg Matched\n",
      "gates16.jpg Matched\n",
      "images (5).jpg Not Matched\n",
      "brak_004.jpg Not Matched\n",
      "gates19.jpg Matched\n",
      "donald trump54.jpg Not Matched\n"
     ]
    }
   ],
   "source": [
    "for image in test_files:\n",
    "    test_image=face_recognition.load_image_file(test_path+image)\n",
    "    try:\n",
    "        test_location=face_recognition.face_locations(test_image,model='cnn')\n",
    "        test_encoding=face_recognition.face_encodings(test_image,test_location)\n",
    "        for encoded_face, located_face in zip(test_encoding,test_location):\n",
    "            result=face_recognition.compare_faces(training_data,encoded_face,0.6)\n",
    "            if True in result:\n",
    "                print(image,'Matched')\n",
    "                shutil.move(test_path+image,Dest_path+image)\n",
    "            else:\n",
    "                print(image,'Not Matched')\n",
    "                \n",
    "    except IndexError as e:\n",
    "        print('Face not Detected')"
   ]
  },
  {
   "cell_type": "code",
   "execution_count": 10,
   "metadata": {},
   "outputs": [
    {
     "name": "stdout",
     "output_type": "stream",
     "text": [
      "Total Images:  50\n",
      "True Positives:  20\n",
      "True Negatives:  28\n",
      "False Positives:  2\n",
      "False Negatives:  0\n",
      "Accuracy:  96.0\n",
      "Precision:  0.9090909090909091\n",
      "Recall:  1.0\n",
      "F1 Score:  0.8\n"
     ]
    }
   ],
   "source": [
    "print(\"Total Images: \",50)\n",
    "print(\"True Positives: \",20)\n",
    "print(\"True Negatives: \",28)\n",
    "print(\"False Positives: \",2)\n",
    "print(\"False Negatives: \",0)\n",
    "TP=20\n",
    "TN=28\n",
    "FP=2\n",
    "FN=0\n",
    "\n",
    "# Accuracy = TP+TN/TI\n",
    "print(\"Accuracy: \",(TP+TN)/50*100)\n",
    "\n",
    "# Precision = TP/TP+FP\n",
    "print(\"Precision: \",TP/(TP+FP))\n",
    "Prec=TP/(TP+FP)\n",
    "\n",
    "# Recall = TP/TP+FN\n",
    "print(\"Recall: \",TP/(TP+FN))\n",
    "Recall=TP/(TN+FN)\n",
    "\n",
    "# F1 Score=2*Precision*Recall/(Precision+Recall)\n",
    "print(\"F1 Score: \",2*Prec*Recall/(Prec+Recall))"
   ]
  }
 ],
 "metadata": {
  "kernelspec": {
   "display_name": "Python 3",
   "language": "python",
   "name": "python3"
  },
  "language_info": {
   "codemirror_mode": {
    "name": "ipython",
    "version": 3
   },
   "file_extension": ".py",
   "mimetype": "text/x-python",
   "name": "python",
   "nbconvert_exporter": "python",
   "pygments_lexer": "ipython3",
   "version": "3.8.5"
  }
 },
 "nbformat": 4,
 "nbformat_minor": 2
}
